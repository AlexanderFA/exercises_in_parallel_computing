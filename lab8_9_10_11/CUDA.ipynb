{
  "nbformat": 4,
  "nbformat_minor": 0,
  "metadata": {
    "colab": {
      "provenance": [],
      "gpuType": "T4"
    },
    "kernelspec": {
      "name": "python3",
      "display_name": "Python 3"
    },
    "language_info": {
      "name": "python"
    },
    "accelerator": "GPU"
  },
  "cells": [
    {
      "cell_type": "code",
      "source": [
        "!nvidia-smi"
      ],
      "metadata": {
        "colab": {
          "base_uri": "https://localhost:8080/"
        },
        "id": "GfGot-mY0iyi",
        "outputId": "e0216d26-b63b-4603-8261-12b5c3133835"
      },
      "execution_count": null,
      "outputs": [
        {
          "output_type": "stream",
          "name": "stdout",
          "text": [
            "Mon May  6 02:53:38 2024       \n",
            "+---------------------------------------------------------------------------------------+\n",
            "| NVIDIA-SMI 535.104.05             Driver Version: 535.104.05   CUDA Version: 12.2     |\n",
            "|-----------------------------------------+----------------------+----------------------+\n",
            "| GPU  Name                 Persistence-M | Bus-Id        Disp.A | Volatile Uncorr. ECC |\n",
            "| Fan  Temp   Perf          Pwr:Usage/Cap |         Memory-Usage | GPU-Util  Compute M. |\n",
            "|                                         |                      |               MIG M. |\n",
            "|=========================================+======================+======================|\n",
            "|   0  Tesla T4                       Off | 00000000:00:04.0 Off |                    0 |\n",
            "| N/A   38C    P8               9W /  70W |      3MiB / 15360MiB |      0%      Default |\n",
            "|                                         |                      |                  N/A |\n",
            "+-----------------------------------------+----------------------+----------------------+\n",
            "                                                                                         \n",
            "+---------------------------------------------------------------------------------------+\n",
            "| Processes:                                                                            |\n",
            "|  GPU   GI   CI        PID   Type   Process name                            GPU Memory |\n",
            "|        ID   ID                                                             Usage      |\n",
            "|=======================================================================================|\n",
            "|  No running processes found                                                           |\n",
            "+---------------------------------------------------------------------------------------+\n"
          ]
        }
      ]
    },
    {
      "cell_type": "code",
      "source": [
        "!nvcc --version"
      ],
      "metadata": {
        "colab": {
          "base_uri": "https://localhost:8080/"
        },
        "id": "JfDxHaCr0nmg",
        "outputId": "d2fc957a-3739-4d6b-9626-f3569713b592"
      },
      "execution_count": null,
      "outputs": [
        {
          "output_type": "stream",
          "name": "stdout",
          "text": [
            "nvcc: NVIDIA (R) Cuda compiler driver\n",
            "Copyright (c) 2005-2023 NVIDIA Corporation\n",
            "Built on Tue_Aug_15_22:02:13_PDT_2023\n",
            "Cuda compilation tools, release 12.2, V12.2.140\n",
            "Build cuda_12.2.r12.2/compiler.33191640_0\n"
          ]
        }
      ]
    },
    {
      "cell_type": "code",
      "source": [
        "!pip install nvcc4jupyter"
      ],
      "metadata": {
        "colab": {
          "base_uri": "https://localhost:8080/"
        },
        "id": "Zvf4yBhp1UVF",
        "outputId": "0ae0f6f7-3567-49fb-eb47-84f84f4ff362"
      },
      "execution_count": null,
      "outputs": [
        {
          "output_type": "stream",
          "name": "stdout",
          "text": [
            "Collecting nvcc4jupyter\n",
            "  Downloading nvcc4jupyter-1.2.1-py3-none-any.whl (10 kB)\n",
            "Installing collected packages: nvcc4jupyter\n",
            "Successfully installed nvcc4jupyter-1.2.1\n"
          ]
        }
      ]
    },
    {
      "cell_type": "code",
      "source": [
        "%load_ext nvcc4jupyter"
      ],
      "metadata": {
        "colab": {
          "base_uri": "https://localhost:8080/"
        },
        "id": "luSwvt5y1ZBb",
        "outputId": "73f02b36-7d21-4866-ea43-e9f221a75ece"
      },
      "execution_count": null,
      "outputs": [
        {
          "output_type": "stream",
          "name": "stdout",
          "text": [
            "Detected platform \"Colab\". Running its setup...\n",
            "Source files will be saved in \"/tmp/tmpyqclptyg\".\n"
          ]
        }
      ]
    },
    {
      "cell_type": "code",
      "source": [
        "%%cuda\n",
        "#include <stdio.h>\n",
        "__global__ void HelloKernel() {\n",
        "   printf(\"Hello world!\");\n",
        "}\n",
        "int main() {\n",
        "   HelloKernel<<<1,1>>>();\n",
        "   cudaDeviceSynchronize();\n",
        "   return 0;\n",
        "}"
      ],
      "metadata": {
        "colab": {
          "base_uri": "https://localhost:8080/"
        },
        "id": "611LUCKy0mTM",
        "outputId": "96f2a066-6593-49ca-c54f-de0e74b0a37a"
      },
      "execution_count": null,
      "outputs": [
        {
          "output_type": "stream",
          "name": "stdout",
          "text": [
            "Hello world!\n"
          ]
        }
      ]
    },
    {
      "cell_type": "code",
      "source": [
        "%%cuda\n",
        "#include <stdio.h>\n",
        "#include <stdlib.h>\n",
        "\n",
        "__global__ void CalcPiKernel(const int n, double *result) {\n",
        "    int idx = blockIdx.x * blockDim.x + threadIdx.x;\n",
        "    // printf(\"Block %d, Thread %d\\n\", blockIdx.x, threadIdx.x); // Вывод номера блока и номера потока\n",
        "    if (idx < n) {\n",
        "        const double xi = (idx + 0.5) * (1.0 / n);\n",
        "        result[idx] = 4.0 / (1.0 + xi * xi);\n",
        "    }\n",
        "}\n",
        "double CalcPi(const int n) {\n",
        "    double *result;\n",
        "    double *d_result;\n",
        "    double pi = 0;\n",
        "    const double coef = 1.0 / n;\n",
        "\n",
        "    // Выделение памяти на хосте и устройстве\n",
        "    result = (double*)malloc(n * sizeof(double));\n",
        "    cudaMalloc((void**)&d_result, n * sizeof(double));\n",
        "\n",
        "    // Запуск ядра\n",
        "    int blockSize = 32; // 256;\n",
        "    int numBlocks = (n + blockSize - 1) / blockSize; // количесто блоков зависит от размера blockSize\n",
        "    CalcPiKernel<<<numBlocks, blockSize>>>(n, d_result);\n",
        "\n",
        "    // Копирование результатов обратно на хост\n",
        "    cudaMemcpy(result, d_result, n * sizeof(double), cudaMemcpyDeviceToHost);\n",
        "\n",
        "    // Суммирование результатов\n",
        "    for (int i = 0; i < n; ++i) {\n",
        "        pi += result[i];\n",
        "    }\n",
        "\n",
        "    // Освобождение памяти на устройстве и хосте\n",
        "    cudaFree(d_result);\n",
        "    free(result);\n",
        "\n",
        "    return pi * coef;\n",
        "}\n",
        "\n",
        "int main() {\n",
        "    int n = 100; // Пример количества итераций для расчета Pi\n",
        "    double pi = CalcPi(n);\n",
        "    printf(\"Approximated value of Pi: %.40lf\\n\", pi);\n",
        "    return 0;\n",
        "}"
      ],
      "metadata": {
        "colab": {
          "base_uri": "https://localhost:8080/"
        },
        "id": "ZaMFhhMl6Q-s",
        "outputId": "391433a5-b827-4597-b906-8cfd14866b47"
      },
      "execution_count": null,
      "outputs": [
        {
          "output_type": "stream",
          "name": "stdout",
          "text": [
            "Approximated value of Pi: 3.1416009869231253937016390409553423523903\n",
            "\n"
          ]
        }
      ]
    },
    {
      "cell_type": "code",
      "source": [
        "%%cuda\n",
        "#include <stdio.h>\n",
        "\n",
        "__global__ void matrixMultiplication(double *A, double *B, double *C, int n) {\n",
        "    int row = blockIdx.x * blockDim.x + threadIdx.x;\n",
        "    int col = blockIdx.y * blockDim.y + threadIdx.y;\n",
        "    if (row < n && col < n) {\n",
        "        double sum = 0.0;\n",
        "        for (int i = 0; i < n; ++i) {\n",
        "            sum += A[row * n + i] * B[i * n + col];\n",
        "        }\n",
        "        C[row * n + col] = sum;\n",
        "    }\n",
        "}\n",
        "\n",
        "int main() {\n",
        "    int n = 2; // Размер матриц\n",
        "\n",
        "    int total_elements = n * n;\n",
        "    double *A_host = (double *)malloc(total_elements * sizeof(double));\n",
        "    double *B_host = (double *)malloc(total_elements * sizeof(double));\n",
        "    double *C_host = (double *)malloc(total_elements * sizeof(double));\n",
        "\n",
        "    double A[] = {1, 3, 4, 8};\n",
        "    double B[] = {5, 4, 3, 0};\n",
        "\n",
        "    cudaMemcpy(A_host, A, total_elements * sizeof(double), cudaMemcpyHostToHost);\n",
        "    cudaMemcpy(B_host, B, total_elements * sizeof(double), cudaMemcpyHostToHost);\n",
        "\n",
        "    double *d_A, *d_B, *d_C;\n",
        "    cudaMalloc(&d_A, total_elements * sizeof(double));\n",
        "    cudaMalloc(&d_B, total_elements * sizeof(double));\n",
        "    cudaMalloc(&d_C, total_elements * sizeof(double));\n",
        "\n",
        "    cudaMemcpy(d_A, A_host, total_elements * sizeof(double), cudaMemcpyHostToDevice);\n",
        "    cudaMemcpy(d_B, B_host, total_elements * sizeof(double), cudaMemcpyHostToDevice);\n",
        "\n",
        "    dim3 blockSize(2, 2); // Количество потоков в блоке\n",
        "    dim3 numBlocks((n + blockSize.x - 1) / blockSize.x, (n + blockSize.y - 1) / blockSize.y); // Количество блоков в сетке\n",
        "\n",
        "    matrixMultiplication<<<numBlocks, blockSize>>>(d_A, d_B, d_C, n);\n",
        "\n",
        "    cudaMemcpy(C_host, d_C, total_elements * sizeof(double), cudaMemcpyDeviceToHost);\n",
        "\n",
        "    printf(\"Result:\\n\");\n",
        "    for (int i = 0; i < total_elements; ++i) {\n",
        "        printf(\"%.2f \", C_host[i]);\n",
        "        if ((i + 1) % n == 0) {\n",
        "            printf(\"\\n\");\n",
        "        }\n",
        "    }\n",
        "\n",
        "    free(A_host);\n",
        "    free(B_host);\n",
        "    free(C_host);\n",
        "    cudaFree(d_A);\n",
        "    cudaFree(d_B);\n",
        "    cudaFree(d_C);\n",
        "\n",
        "    return 0;\n",
        "}\n"
      ],
      "metadata": {
        "colab": {
          "base_uri": "https://localhost:8080/"
        },
        "id": "4mY9qBMN-WLs",
        "outputId": "61543c69-534a-4866-a97f-4531d3170ee4"
      },
      "execution_count": null,
      "outputs": [
        {
          "output_type": "stream",
          "name": "stdout",
          "text": [
            "Result:\n",
            "14.00 4.00 \n",
            "44.00 16.00 \n",
            "\n"
          ]
        }
      ]
    },
    {
      "cell_type": "code",
      "source": [
        "%%cuda\n",
        "#include <iostream>\n",
        "#include <openacc.h>\n",
        "\n",
        "int main() {\n",
        "    const int n = 1000000;\n",
        "    double x, pi, sum = 0.0;\n",
        "\n",
        "    pi = 0.0;\n",
        "\n",
        "    #pragma acc parallel loop reduction(+:sum)\n",
        "    for (int i = 0; i < n; ++i) {\n",
        "        x = (i + 0.5) / n;\n",
        "        sum += 4.0 / (1.0 + x * x);\n",
        "    }\n",
        "\n",
        "    pi = sum / n;\n",
        "    printf(\"Approximated value of Pi: %.40lf\\n\", pi);\n",
        "\n",
        "    return 0;\n",
        "}\n"
      ],
      "metadata": {
        "id": "c39MeUgHC6SY",
        "colab": {
          "base_uri": "https://localhost:8080/"
        },
        "outputId": "46c97637-8a89-46e0-933b-87096c7c54a5"
      },
      "execution_count": 106,
      "outputs": [
        {
          "output_type": "stream",
          "name": "stdout",
          "text": [
            "Approximated value of Pi: 3.1415926535897642501993232144741341471672\n",
            "\n"
          ]
        }
      ]
    },
    {
      "cell_type": "code",
      "source": [],
      "metadata": {
        "id": "EfgroJ2eRPTJ"
      },
      "execution_count": null,
      "outputs": []
    }
  ]
}